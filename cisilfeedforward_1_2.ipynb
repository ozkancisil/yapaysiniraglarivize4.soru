{
  "nbformat": 4,
  "nbformat_minor": 0,
  "metadata": {
    "colab": {
      "provenance": [],
      "toc_visible": true
    },
    "kernelspec": {
      "name": "python3",
      "display_name": "Python 3"
    },
    "language_info": {
      "name": "python"
    }
  },
  "cells": [
    {
      "cell_type": "code",
      "source": [
        "import torch\n",
        "import torch.nn as nn"
      ],
      "metadata": {
        "id": "-zNoyWJFkhR3"
      },
      "execution_count": 1,
      "outputs": []
    },
    {
      "cell_type": "code",
      "source": [
        "X = torch.tensor([[1, 2, 3], [4, 5, 6]], dtype=torch.float) # X adında bir PyTorch tensörü oluşturuluyor."
      ],
      "metadata": {
        "id": "kJEEqU0gklFz"
      },
      "execution_count": 2,
      "outputs": []
    },
    {
      "cell_type": "code",
      "execution_count": 3,
      "metadata": {
        "id": "L6OA-8Tbj8nS"
      },
      "outputs": [],
      "source": [
        "# Customized tanh activation function\n",
        "class MyTanh(nn.Module):\n",
        "    def forward(self, x):\n",
        "        return (torch.exp(x) - torch.exp(-x)) / (torch.exp(x) + torch.exp(-x))\n",
        "\n",
        "# Customized sigmoid activation function\n",
        "class MySigmoid(nn.Module):\n",
        "    def forward(self, x):\n",
        "        return 1 / (1 + torch.exp(-x))\n",
        "\n",
        "# Input, hidden, and output layer sizes\n",
        "input_size = 3\n",
        "hidden_size = 50\n",
        "output_size = 1\n",
        "\n",
        "# Model class\n",
        "class myModel(nn.Module):\n",
        "    def __init__(self, input_size, hidden_size, output_size):\n",
        "        super(myModel, self).__init__()\n",
        "\n",
        "        # Hidden layer\n",
        "        self.hidden_layer = nn.Linear(input_size, hidden_size) # Fully connected layer\n",
        "        self.tanh = MyTanh() # Customized tanh activation function\n",
        "\n",
        "        # Output layer\n",
        "        self.output_layer = nn.Linear(hidden_size, output_size) # Fully connected layer\n",
        "        self.sigmoid = MySigmoid() # Customized sigmoid activation function\n",
        "\n",
        "    def forward(self, x):\n",
        "        hidden = self.tanh(self.hidden_layer(x)) # Apply customized tanh activation function in the hidden layer\n",
        "        output = self.sigmoid(self.output_layer(hidden)) # Apply customized sigmoid activation function in the output layer\n",
        "        \n",
        "        return output\n"
      ]
    },
    {
      "cell_type": "code",
      "source": [
        "torch.manual_seed(1)\n",
        "# Modeli oluştur\n",
        "model = myModel(input_size, hidden_size, output_size)\n",
        "outputs = model(X)\n",
        "\n",
        "# Çıktıları ekrana yazdır\n",
        "print(\"Çıktılar:\")\n",
        "print(outputs)\n",
        "\n"
      ],
      "metadata": {
        "colab": {
          "base_uri": "https://localhost:8080/"
        },
        "id": "TJ7WulXTlL_h",
        "outputId": "0c94b167-951f-4eb7-c718-b74b6ccb0412"
      },
      "execution_count": 4,
      "outputs": [
        {
          "output_type": "stream",
          "name": "stdout",
          "text": [
            "Çıktılar:\n",
            "tensor([[0.4892],\n",
            "        [0.5566]], grad_fn=<MulBackward0>)\n"
          ]
        }
      ]
    },
    {
      "cell_type": "code",
      "source": [
        "torch.manual_seed(180401043) #okul numaram için seed\n",
        "# Modeli oluştur\n",
        "model = myModel(input_size, hidden_size, output_size)\n",
        "outputs = model(X)\n",
        "\n",
        "# Çıktıları ekrana yazdır\n",
        "print(\"Çıktılar:\")\n",
        "print(outputs)\n",
        "\n"
      ],
      "metadata": {
        "colab": {
          "base_uri": "https://localhost:8080/"
        },
        "id": "AJNlKwsfp0uy",
        "outputId": "fa29bb82-3ae0-43e2-baba-eb36067556c4"
      },
      "execution_count": 5,
      "outputs": [
        {
          "output_type": "stream",
          "name": "stdout",
          "text": [
            "Çıktılar:\n",
            "tensor([[0.4339],\n",
            "        [0.4423]], grad_fn=<MulBackward0>)\n"
          ]
        }
      ]
    }
  ]
}